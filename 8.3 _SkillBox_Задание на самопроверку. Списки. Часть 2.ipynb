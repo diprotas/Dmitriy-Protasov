{
  "cells": [
    {
      "cell_type": "markdown",
      "id": "ba73edcf",
      "metadata": {
        "id": "ba73edcf"
      },
      "source": [
        "# Модуль 8. Алгоритмы и структуры данных\n",
        "## Практика по спискам (продолжение)"
      ]
    },
    {
      "cell_type": "markdown",
      "id": "425e1bf9",
      "metadata": {
        "id": "425e1bf9"
      },
      "source": [
        "### **Задача 1**\n",
        "\n",
        "Дан список `list1`, который содержит целые числа. Всего в списке 12 элементов. \n",
        "\n",
        "Ваша задача — посчитать сумму элементов с нечётными индексами. Другими словами, нужно сложить элементы `list1[1]`, `list1[3]`, `list1[5]`, `list1[7]`, `list1[9]` и `list1[11]`. \n",
        "\n",
        "Чтобы решить эту задачу, используйте slicing. \n",
        "\n",
        "_Подсказка_: вам придётся указать одну границу среза и шаг.   "
      ]
    },
    {
      "cell_type": "code",
      "execution_count": null,
      "id": "c2ea49ee",
      "metadata": {
        "id": "c2ea49ee"
      },
      "outputs": [],
      "source": [
        "list1 = [1, 3, 0, -2, 4, 5, 9, 12, -9, 16, -75, 8]\n",
        "\n",
        "slice1 = # Ваш код здесь\n",
        "\n",
        "res = 0\n",
        "for i in range(len(slice1)):\n",
        "    res += slice1[i]\n",
        "\n",
        "print(res)"
      ]
    },
    {
      "cell_type": "markdown",
      "id": "bb39c8a8",
      "metadata": {
        "id": "bb39c8a8"
      },
      "source": [
        "---\n",
        "\n",
        "### **Задача 2**\n",
        "\n",
        "Задан список `list2`, который содержит целые числа, некоторые из которых равны нулю. \n",
        "\n",
        "Задача: удалите из списка все нулевые элементы, используя инструкцию `del`.\n",
        "\n",
        "_Подсказка_\n",
        "\n",
        "1. Используйте цикл `while`, а не `for`.\n",
        "1. Подумайте, на каждой ли итерации цикла нужно инкрементировать его счётчик."
      ]
    },
    {
      "cell_type": "code",
      "execution_count": null,
      "id": "d80662f3",
      "metadata": {
        "id": "d80662f3"
      },
      "outputs": [],
      "source": [
        "list2 = [1, 17, 0, 3, 6, 9, 0, 1, 34, -19, 0, 0]\n",
        "\n",
        "# Ваш код, удаляющий из списка нули, здесь."
      ]
    },
    {
      "cell_type": "markdown",
      "id": "b07aeafb",
      "metadata": {
        "id": "b07aeafb"
      },
      "source": [
        "---\n",
        "\n",
        "### **Задача 3**\n",
        "\n",
        "Дан список списков (да, такое бывает, и достаточно часто) `list_of_lists`. Другими словами, каждый элемент списка `list_of_lists` — список сам по себе. Например, `list_of_lists[0]` – это список `['a', 'b', 'c']`, `list_of_lists[1]` – `['d', 'e', 'f']` и так далее.\n",
        "\n",
        "Ваша задача — написать код, который объединит все элементы-списки `list_of_lists` в один-единственный список abc. Напечатайте объединённый список `abc` на экране. "
      ]
    },
    {
      "cell_type": "code",
      "execution_count": null,
      "id": "b868c6a4",
      "metadata": {
        "id": "b868c6a4"
      },
      "outputs": [],
      "source": [
        "list_of_lists = [\n",
        "    ['a', 'b', 'c'],\n",
        "    ['d', 'e', 'f'],\n",
        "    ['g', 'h', 'i'],\n",
        "    ['j', 'k', 'l'],\n",
        "    ['m', 'n', 'o'],\n",
        "    ['p', 'q', 'r'],\n",
        "    ['s', 't', 'u'],\n",
        "    ['v', 'w', 'x'],\n",
        "    ['y', 'z']\n",
        "]\n",
        "\n",
        "abc = []\n",
        "# Ваш код здесь."
      ]
    },
    {
      "cell_type": "markdown",
      "id": "b7d4c63b",
      "metadata": {
        "id": "b7d4c63b"
      },
      "source": [
        "---\n",
        "\n",
        "### **Задача 4**\n",
        "\n",
        "Даны четыре списка: `list41`, `list42`, `list43` и `list44`. \n",
        "\n",
        "Напишите код, который определяет, является ли каждый из этих списков `палиндромом` (читается одинаково в обоих направлениях).\n",
        "\n",
        "__Дополнение со звёздочкой__. Подумайте над ещё одним решением: как написать код, чтобы не повторять проверки на палиндром."
      ]
    },
    {
      "cell_type": "code",
      "execution_count": null,
      "id": "655fd363",
      "metadata": {
        "id": "655fd363"
      },
      "outputs": [],
      "source": [
        "list41 = ['a', 'b', 'c', 'b']\n",
        "\n",
        "# Ваш код здесь.\n",
        "\n",
        "list42 = ['a', 'b', 'c', 'b', 'a']\n",
        "\n",
        "# Ваш код здесь.\n",
        "\n",
        "list43 = ['b', 'b', 'b', 'a', 'b', 'b']\n",
        "\n",
        "# Ваш код здесь.\n",
        "\n",
        "list44 = ['b', 'c', 'd', 'e', 'd', 'c', 'b']\n",
        "\n",
        "# Ваш код здесь."
      ]
    },
    {
      "cell_type": "markdown",
      "id": "d26b84d5",
      "metadata": {
        "id": "d26b84d5"
      },
      "source": [
        "---\n",
        "\n",
        "## Решения\n",
        "\n",
        "### **Задача 1**"
      ]
    },
    {
      "cell_type": "code",
      "execution_count": null,
      "id": "3412a29d",
      "metadata": {
        "id": "3412a29d",
        "outputId": "b73457ae-200d-4e44-b89d-eda49cb66141"
      },
      "outputs": [
        {
          "name": "stdout",
          "output_type": "stream",
          "text": [
            "42\n"
          ]
        }
      ],
      "source": [
        "list1 = [1, 3, 0, -2, 4, 5, 9, 12, -9, 16, -75, 8]\n",
        "\n",
        "# Для того, чтобы пройтись по элементам с нечётными индексами, \n",
        "# нужно начать с элемента с индексом 1 (указываем левую границу среза)\n",
        "# и шагать через один (указываем шаг, равный 2)\n",
        "slice1 = list1[1::2]\n",
        "\n",
        "res = 0\n",
        "for i in range(len(slice1)):\n",
        "    res += slice1[i]\n",
        "\n",
        "print(res)"
      ]
    },
    {
      "cell_type": "markdown",
      "id": "814100f0",
      "metadata": {
        "id": "814100f0"
      },
      "source": [
        "---\n",
        "\n",
        "### **Задача 2**"
      ]
    },
    {
      "cell_type": "code",
      "execution_count": null,
      "id": "683a852e",
      "metadata": {
        "colab": {
          "base_uri": "https://localhost:8080/"
        },
        "id": "683a852e",
        "outputId": "29b8c46d-15e7-4c71-aacc-46852e182084"
      },
      "outputs": [
        {
          "output_type": "stream",
          "name": "stdout",
          "text": [
            "[1, 17, 3, 6, 9, 1, 34, -19]\n"
          ]
        }
      ],
      "source": [
        "list2 = [1, 17, 0, 3, 6, 9, 0, 1, 34, -19, 0, 0]\n",
        "\n",
        "i = 0\n",
        "while i < len(list2):\n",
        "  if list2[i] == 0:\n",
        "    del list2[i] \n",
        "  else:\n",
        "    i += 1\n",
        "\n",
        "print(list2)"
      ]
    },
    {
      "cell_type": "markdown",
      "id": "84d39446",
      "metadata": {
        "id": "84d39446"
      },
      "source": [
        "---\n",
        "\n",
        "### **Задача 3**\n",
        "\n",
        "#### Решение 1"
      ]
    },
    {
      "cell_type": "code",
      "execution_count": null,
      "id": "b1ecc94f",
      "metadata": {
        "id": "b1ecc94f",
        "outputId": "bb01aa36-2a7e-4da1-9d86-1f7bd920b347"
      },
      "outputs": [
        {
          "name": "stdout",
          "output_type": "stream",
          "text": [
            "['a', 'b', 'c', 'd', 'e', 'f', 'g', 'h', 'i', 'j', 'k', 'l', 'm', 'n', 'o', 'p', 'q', 'r', 's', 't', 'u', 'v', 'w', 'x', 'y', 'z']\n"
          ]
        }
      ],
      "source": [
        "list_of_lists = [\n",
        "    ['a', 'b', 'c'],\n",
        "    ['d', 'e', 'f'],\n",
        "    ['g', 'h', 'i'],\n",
        "    ['j', 'k', 'l'],\n",
        "    ['m', 'n', 'o'],\n",
        "    ['p', 'q', 'r'],\n",
        "    ['s', 't', 'u'],\n",
        "    ['v', 'w', 'x'],\n",
        "    ['y', 'z']\n",
        "]\n",
        "\n",
        "abc = []\n",
        "for i in range(len(list_of_lists)):\n",
        "    abc = abc + list_of_lists[i]\n",
        "    # Или чуть короче: abc += list_of_lists[i]\n",
        "    \n",
        "print(abc)"
      ]
    },
    {
      "cell_type": "markdown",
      "id": "49eb8d56",
      "metadata": {
        "id": "49eb8d56"
      },
      "source": [
        "#### Решение 2"
      ]
    },
    {
      "cell_type": "code",
      "execution_count": null,
      "id": "409b67e8",
      "metadata": {
        "id": "409b67e8",
        "outputId": "b2441642-68cc-46e0-a4fe-12cf79c8becc"
      },
      "outputs": [
        {
          "name": "stdout",
          "output_type": "stream",
          "text": [
            "['a', 'b', 'c', 'd', 'e', 'f', 'g', 'h', 'i', 'j', 'k', 'l', 'm', 'n', 'o', 'p', 'q', 'r', 's', 't', 'u', 'v', 'w', 'x', 'y', 'z']\n"
          ]
        }
      ],
      "source": [
        "list_of_lists = [\n",
        "    ['a', 'b', 'c'],\n",
        "    ['d', 'e', 'f'],\n",
        "    ['g', 'h', 'i'],\n",
        "    ['j', 'k', 'l'],\n",
        "    ['m', 'n', 'o'],\n",
        "    ['p', 'q', 'r'],\n",
        "    ['s', 't', 'u'],\n",
        "    ['v', 'w', 'x'],\n",
        "    ['y', 'z']\n",
        "]\n",
        "\n",
        "abc = []\n",
        "for i in range(len(list_of_lists)):\n",
        "    abc.extend(list_of_lists[i])\n",
        "    \n",
        "print(abc)"
      ]
    },
    {
      "cell_type": "markdown",
      "id": "899849ee",
      "metadata": {
        "id": "899849ee"
      },
      "source": [
        "---\n",
        "\n",
        "### **Задача 4**\n",
        "\n",
        "#### Базовое решение"
      ]
    },
    {
      "cell_type": "code",
      "execution_count": null,
      "id": "24186026",
      "metadata": {
        "id": "24186026",
        "outputId": "0636f537-2267-48d3-aa3c-1ad9b267d71a"
      },
      "outputs": [
        {
          "name": "stdout",
          "output_type": "stream",
          "text": [
            "No\n",
            "Yes\n",
            "No\n",
            "Yes\n"
          ]
        }
      ],
      "source": [
        "list41 = ['a', 'b', 'c', 'b']\n",
        "\n",
        "if list41 == list41[::-1]:\n",
        "    print('Yes')\n",
        "else:\n",
        "    print('No')\n",
        "\n",
        "list42 = ['a', 'b', 'c', 'b', 'a']\n",
        "\n",
        "if list42 == list42[::-1]:\n",
        "    print('Yes')\n",
        "else:\n",
        "    print('No')\n",
        "\n",
        "list43 = ['b', 'b', 'b', 'a', 'b', 'b']\n",
        "\n",
        "if list43 == list43[::-1]:\n",
        "    print('Yes')\n",
        "else:\n",
        "    print('No')\n",
        "\n",
        "list44 = ['b', 'c', 'd', 'e', 'd', 'c', 'b']\n",
        "\n",
        "if list44 == list44[::-1]:\n",
        "    print('Yes')\n",
        "else:\n",
        "    print('No')"
      ]
    },
    {
      "cell_type": "markdown",
      "id": "1fa57bc5",
      "metadata": {
        "id": "1fa57bc5"
      },
      "source": [
        "#### Решение со звёздочкой"
      ]
    },
    {
      "cell_type": "code",
      "execution_count": null,
      "id": "efb6fd92",
      "metadata": {
        "id": "efb6fd92",
        "outputId": "d3eac7de-3bdf-403c-d780-8581ec3dc7d4"
      },
      "outputs": [
        {
          "name": "stdout",
          "output_type": "stream",
          "text": [
            "No\n",
            "Yes\n",
            "No\n",
            "Yes\n"
          ]
        }
      ],
      "source": [
        "list41 = ['a', 'b', 'c', 'b']\n",
        "list42 = ['a', 'b', 'c', 'b', 'a']\n",
        "list43 = ['b', 'b', 'b', 'a', 'b', 'b']\n",
        "list44 = ['b', 'c', 'd', 'e', 'd', 'c', 'b']\n",
        "\n",
        "all_of_them = [\n",
        "    list41,\n",
        "    list42,\n",
        "    list43,\n",
        "    list44\n",
        "]\n",
        "\n",
        "for l in all_of_them:\n",
        "    if l == l[::-1]:\n",
        "        print('Yes')\n",
        "    else:\n",
        "        print('No')"
      ]
    }
  ],
  "metadata": {
    "kernelspec": {
      "display_name": "Python 3 (ipykernel)",
      "language": "python",
      "name": "python3"
    },
    "language_info": {
      "codemirror_mode": {
        "name": "ipython",
        "version": 3
      },
      "file_extension": ".py",
      "mimetype": "text/x-python",
      "name": "python",
      "nbconvert_exporter": "python",
      "pygments_lexer": "ipython3",
      "version": "3.9.7"
    },
    "colab": {
      "provenance": []
    }
  },
  "nbformat": 4,
  "nbformat_minor": 5
}