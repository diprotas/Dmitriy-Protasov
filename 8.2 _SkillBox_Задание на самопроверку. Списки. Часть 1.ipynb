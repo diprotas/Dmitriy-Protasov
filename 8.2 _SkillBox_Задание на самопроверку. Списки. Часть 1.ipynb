{
  "cells": [
    {
      "cell_type": "markdown",
      "id": "c2dd877a",
      "metadata": {
        "id": "c2dd877a"
      },
      "source": [
        "# Модуль 8. Алгоритмы и структуры данных\n",
        "\n",
        "## Практика по спискам\n",
        "\n"
      ]
    },
    {
      "cell_type": "markdown",
      "id": "0968d539",
      "metadata": {
        "id": "0968d539"
      },
      "source": [
        "### **Задача 1**\n",
        "Создайте список `list1`, который состоит из пяти элементов: `2`, `7`, `19`, `0` и `8`."
      ]
    },
    {
      "cell_type": "code",
      "execution_count": null,
      "id": "143b208a",
      "metadata": {
        "id": "143b208a"
      },
      "outputs": [],
      "source": [
        "list1 = # ваш код здесь"
      ]
    },
    {
      "cell_type": "markdown",
      "id": "d4ee0fe4",
      "metadata": {
        "id": "d4ee0fe4"
      },
      "source": [
        "Напечатайте на экране длину списка `list1`."
      ]
    },
    {
      "cell_type": "code",
      "execution_count": null,
      "id": "aba24714",
      "metadata": {
        "id": "aba24714"
      },
      "outputs": [],
      "source": [
        "# Ваш код здесь."
      ]
    },
    {
      "cell_type": "markdown",
      "id": "ae79fe3f",
      "metadata": {
        "id": "ae79fe3f"
      },
      "source": [
        "Выведите на экран сумму первого и последнего элементов списка `list1`."
      ]
    },
    {
      "cell_type": "code",
      "execution_count": null,
      "id": "4f5635db",
      "metadata": {
        "id": "4f5635db"
      },
      "outputs": [],
      "source": [
        "# Ваш код здесь."
      ]
    },
    {
      "cell_type": "markdown",
      "id": "b71b4720",
      "metadata": {
        "id": "b71b4720"
      },
      "source": [
        "Добавьте в конец списка `list1` два элемента: `-1` и `4`."
      ]
    },
    {
      "cell_type": "code",
      "execution_count": null,
      "id": "2d004660",
      "metadata": {
        "id": "2d004660"
      },
      "outputs": [],
      "source": [
        "# Ваш код здесь."
      ]
    },
    {
      "cell_type": "markdown",
      "id": "d073891e",
      "metadata": {
        "id": "d073891e"
      },
      "source": [
        "Замените `четвёртый` элемент этого списка на значение `3`."
      ]
    },
    {
      "cell_type": "code",
      "execution_count": null,
      "id": "e6185159",
      "metadata": {
        "id": "e6185159"
      },
      "outputs": [],
      "source": [
        "# Ваш код здесь."
      ]
    },
    {
      "cell_type": "markdown",
      "id": "61d5fab9",
      "metadata": {
        "id": "61d5fab9"
      },
      "source": [
        "Напишите код, который вычисляет сумму всех элементов полученного списка и выводит её на экран."
      ]
    },
    {
      "cell_type": "code",
      "execution_count": null,
      "id": "a30183fe",
      "metadata": {
        "id": "a30183fe"
      },
      "outputs": [],
      "source": [
        "# Ваш код здесь. "
      ]
    },
    {
      "cell_type": "markdown",
      "id": "2a25c34f",
      "metadata": {
        "id": "2a25c34f"
      },
      "source": [
        "---\n",
        "\n",
        "### **Задача 2**\n",
        "\n",
        "Дан список `list2`, который содержит целые числа. \n",
        "\n",
        "Превратите список `list2` в список квадратов этих чисел. Другими словами, замените значение каждого элемента списка `list2` на квадрат этого значения. \n",
        "\n",
        "Напечатайте полученный список на экране.    "
      ]
    },
    {
      "cell_type": "code",
      "execution_count": null,
      "id": "52c1fb5d",
      "metadata": {
        "id": "52c1fb5d"
      },
      "outputs": [],
      "source": [
        "list2 = [0, 1, 2, 3, 4, 5, 6, 7, 8, 9]\n",
        "\n",
        "# Ваш код здесь."
      ]
    },
    {
      "cell_type": "markdown",
      "id": "cd156397",
      "metadata": {
        "id": "cd156397"
      },
      "source": [
        "---\n",
        "\n",
        "### **Задача 3**\n",
        "\n",
        "Даны два списка `list31` и `list32`. Первый список пуст, а второй содержит целые числа. \n",
        "\n",
        "Напишите код, который заполнит пустой список `list31` **неотрицательными (>=0)** элементами списка `list32`. Напечатайте список `list31` на экране. \n",
        "\n",
        "*Подсказка*: функцию `append` можно вызывать на пустом списке. "
      ]
    },
    {
      "cell_type": "code",
      "execution_count": null,
      "id": "1196f93f",
      "metadata": {
        "id": "1196f93f"
      },
      "outputs": [],
      "source": [
        "list31 = []\n",
        "list32 = [9, -1, 8, 0, 15, -67, 23, 42, -19, -2]\n",
        "\n",
        "# Ваш код здесь."
      ]
    },
    {
      "cell_type": "markdown",
      "id": "13774f12",
      "metadata": {
        "id": "13774f12"
      },
      "source": [
        "---\n",
        "\n",
        "### **Задача 4**\n",
        "\n",
        "Дан список `list4`, содержащий целые `неотрицательные` числа. Найдите среди них максимальное. Напечатайте его на экране."
      ]
    },
    {
      "cell_type": "code",
      "execution_count": null,
      "id": "fc059708",
      "metadata": {
        "id": "fc059708"
      },
      "outputs": [],
      "source": [
        "list4 = [8, 3, 17, 42, 7, 18, 904, 6, 12, 1024, 5, 39]\n",
        "\n",
        "# Ваш код здесь."
      ]
    },
    {
      "cell_type": "markdown",
      "id": "98a1b01e",
      "metadata": {
        "id": "98a1b01e"
      },
      "source": [
        "---\n",
        "##Решения\n",
        "\n",
        "### **Задача 1**"
      ]
    },
    {
      "cell_type": "code",
      "execution_count": null,
      "id": "cefef506",
      "metadata": {
        "colab": {
          "base_uri": "https://localhost:8080/"
        },
        "id": "cefef506",
        "outputId": "abcb308a-ed9d-4db7-8987-eae28c00aff9"
      },
      "outputs": [
        {
          "output_type": "stream",
          "name": "stdout",
          "text": [
            "5\n",
            "10\n",
            "42\n",
            "42\n",
            "42\n"
          ]
        }
      ],
      "source": [
        "### Создайте список list1, который состоит из пяти элементов: 2, 7, 19, 0 и 8.\n",
        "list1 = [2, 7, 19, 0, 8]\n",
        "\n",
        "### Напечатайте на экране длину списка list1.\n",
        "print(len(list1)) \n",
        "\n",
        "### Выведите на экран сумму первого и последнего элементов списка list1.\n",
        "print(list1[0] + list1[len(list1)-1]) # или print(list1[0] + list1[-1])\n",
        "\n",
        "### Добавьте в конец списка list1 два элемента: -1 и 4.\n",
        "list1.append(-1)\n",
        "list1.append(4)\n",
        "\n",
        "### Замените четвёртый элемент этого списка на значение 3.\n",
        "list1[3] = 3\n",
        "\n",
        "### Напишите код, который вычисляет сумму всех элементов полученного списка и выводит её на экран.\n",
        "\n",
        "# Вариант 1\n",
        "i = 0\n",
        "res = 0\n",
        "while i < len(list1):\n",
        "    res += list1[i]\n",
        "    i += 1\n",
        "\n",
        "print(res)    \n",
        "    \n",
        "# Вариант 2\n",
        "res = 0\n",
        "for i in range(len(list1)):\n",
        "    res += list1[i]\n",
        "    \n",
        "print(res)\n",
        "    \n",
        "# Вариант 3 (со звёздочкой)\n",
        "print(sum(list1))"
      ]
    },
    {
      "cell_type": "markdown",
      "id": "f2c2c23b",
      "metadata": {
        "id": "f2c2c23b"
      },
      "source": [
        "---\n",
        "\n",
        "### **Задача 2**"
      ]
    },
    {
      "cell_type": "code",
      "execution_count": null,
      "id": "98a8cc8b",
      "metadata": {
        "id": "98a8cc8b",
        "outputId": "cac2572a-b65d-42ca-cb60-a18f785941be"
      },
      "outputs": [
        {
          "name": "stdout",
          "output_type": "stream",
          "text": [
            "[0, 1, 4, 9, 16, 25, 36, 49, 64, 81]\n",
            "[0, 1, 4, 9, 16, 25, 36, 49, 64, 81]\n"
          ]
        }
      ],
      "source": [
        "list2 = [0, 1, 2, 3, 4, 5, 6, 7, 8, 9]\n",
        "\n",
        "for i in range(len(list2)):\n",
        "    list2[i] = list2[i]*list2[i]\n",
        "    \n",
        "print(list2)\n",
        "\n",
        "\n",
        "### Альтернативное решение:\n",
        "\n",
        "# В Python есть операция **, которая возводит число в заданную степень. \n",
        "# Например, x в квадрате можно записать как x**2. Поэтому:\n",
        "list2 = [0, 1, 2, 3, 4, 5, 6, 7, 8, 9]\n",
        "\n",
        "for i in range(len(list2)):\n",
        "    list2[i] = list2[i]**2\n",
        "    \n",
        "print(list2)"
      ]
    },
    {
      "cell_type": "markdown",
      "id": "3bc3e39f",
      "metadata": {
        "id": "3bc3e39f"
      },
      "source": [
        "---\n",
        "\n",
        "### **Задача 3**"
      ]
    },
    {
      "cell_type": "code",
      "execution_count": null,
      "id": "3f16fddb",
      "metadata": {
        "id": "3f16fddb",
        "outputId": "9618e66b-dc83-4920-e318-5f71131c6eb5"
      },
      "outputs": [
        {
          "name": "stdout",
          "output_type": "stream",
          "text": [
            "[9, 8, 0, 15, 23, 42]\n"
          ]
        }
      ],
      "source": [
        "list31 = []\n",
        "list32 = [9, -1, 8, 0, 15, -67, 23, 42, -19, -2]\n",
        "\n",
        "for i in range(len(list32)):\n",
        "    if list32[i] >= 0:\n",
        "        list31.append(list32[i])\n",
        "        \n",
        "print(list31)"
      ]
    },
    {
      "cell_type": "markdown",
      "id": "de4f1237",
      "metadata": {
        "id": "de4f1237"
      },
      "source": [
        "---\n",
        "\n",
        "### **Задача 4**"
      ]
    },
    {
      "cell_type": "code",
      "execution_count": null,
      "id": "f55aa414",
      "metadata": {
        "id": "f55aa414",
        "outputId": "6d4f72f3-559b-4a41-e0e2-853fe958be11"
      },
      "outputs": [
        {
          "name": "stdout",
          "output_type": "stream",
          "text": [
            "1024\n"
          ]
        }
      ],
      "source": [
        "list4 = [8, 3, 17, 42, 7, 18, 904, 6, 12, 1024, 5, 39]\n",
        "\n",
        "# В условии задачи сказано, что числа целые неотрицательные.\n",
        "# Минимальное среди целых неотрицательных чисел — это ноль.\n",
        "res = 0\n",
        "\n",
        "for i in range(len(list4)):\n",
        "    # Если текущий элемент списка больше,\n",
        "    # чем предыдущий «максимум»\n",
        "    if list4[i] > res:\n",
        "        # то обновляем этот «максимум»\n",
        "        res = list4[i]\n",
        "\n",
        "print(res)"
      ]
    },
    {
      "cell_type": "code",
      "execution_count": null,
      "id": "8a8b6b04",
      "metadata": {
        "id": "8a8b6b04"
      },
      "outputs": [],
      "source": []
    }
  ],
  "metadata": {
    "kernelspec": {
      "display_name": "Python 3 (ipykernel)",
      "language": "python",
      "name": "python3"
    },
    "language_info": {
      "codemirror_mode": {
        "name": "ipython",
        "version": 3
      },
      "file_extension": ".py",
      "mimetype": "text/x-python",
      "name": "python",
      "nbconvert_exporter": "python",
      "pygments_lexer": "ipython3",
      "version": "3.9.7"
    },
    "colab": {
      "provenance": []
    }
  },
  "nbformat": 4,
  "nbformat_minor": 5
}